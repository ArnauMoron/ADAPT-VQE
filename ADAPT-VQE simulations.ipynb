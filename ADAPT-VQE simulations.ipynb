{
 "cells": [
  {
   "cell_type": "code",
   "execution_count": 1,
   "metadata": {},
   "outputs": [
    {
     "name": "stderr",
     "output_type": "stream",
     "text": [
      "[Qibo 0.2.18|INFO|2025-08-10 16:29:37]: Using qibojit (numba) backend on /CPU:0\n"
     ]
    }
   ],
   "source": [
    "from VQE.Methods import ADAPT_minimization, Quantum_ADAPT_minimization, ADAPT_mixed_minimization\n",
    "from VQE.Circuit import Circuits_Composser\n",
    "from qibo import  set_backend\n",
    "\n",
    "import contextlib\n",
    "import io\n",
    "\n",
    "import numpy as np\n",
    "from tqdm import tqdm\n",
    "\n",
    "set_backend(\"qibojit\")\n",
    "\n",
    "f = io.StringIO()\n"
   ]
  },
  {
   "cell_type": "code",
   "execution_count": 2,
   "metadata": {},
   "outputs": [
    {
     "name": "stdout",
     "output_type": "stream",
     "text": [
      " --------------------------------------------------------------------------\n",
      "                            ADAPT for  Be6\n",
      " --------------------------------------------------------------------------\n",
      "\n",
      "Initial Energy:  1.5679\n",
      "\n",
      "------------ LAYER 1 ------------\n",
      "Operator: [0, 3, 4, 5] , Gradient: 7.527717371155747\n",
      "Energy:  -0.8882113101561466\n",
      "Rel. Error:  0.7086683621340948\n",
      "Theta: 0.5781652643034633\n",
      "\n",
      "------------ LAYER 2 ------------\n",
      "Operator: [0, 3, 1, 2] , Gradient: 4.908336127500618\n",
      "Energy:  -3.048795589281837\n",
      "Rel. Error:  7.854125628178123e-07\n",
      "Theta: -0.7861368032713886\n",
      "\n",
      "Operators used for each layer:\n",
      "Layer 0: Operator [0, 3, 4, 5], Theta = 0.5913989311967384, Gradient = 7.527717371155747\n",
      "Layer 1: Operator [0, 3, 1, 2], Theta = -0.7861368032713886, Gradient = 4.908336127500618\n",
      "\n",
      " Final energy result: -3.048795589281837\t Final relative error is 7.854125628178123e-07\n"
     ]
    }
   ],
   "source": [
    "n_qubits = 6\n",
    "nuc='Be6'\n",
    "ref_state=0\n",
    "data, nucleus = ADAPT_minimization(nuc, ref_state = ref_state, n_qubits=n_qubits, max_layers=3, threshold=1e-5)"
   ]
  },
  {
   "cell_type": "code",
   "execution_count": 3,
   "metadata": {},
   "outputs": [
    {
     "name": "stdout",
     "output_type": "stream",
     "text": [
      " --------------------------------------------------------------------------\n",
      "                            ADAPT for  Be6\n",
      " --------------------------------------------------------------------------\n",
      "\n",
      "Initial Energy:  1.5679\n",
      "\n",
      "------------ LAYER 1 ------------\n",
      "Operator: [0, 3, 4, 5]\n",
      "Energy:  -0.8882113101741327\n",
      "Rel. Error:  0.7086683621281954\n",
      "Theta: 0.5781667393732816\n",
      "\n",
      "------------ LAYER 2 ------------\n",
      "Operator: [0, 3, 1, 2]\n",
      "Energy:  -3.04879559180808\n",
      "Rel. Error:  7.845839597985231e-07\n",
      "New operator:  [0, 3, 1, 2]     Theta: -0.7861364411573831\n",
      "\n",
      "Operators used for each layer:\n",
      "Layer 0: Operator [0, 3, 4, 5], Theta = 0.5913988054475436\n",
      "Layer 1: Operator [0, 3, 1, 2], Theta = -0.7861364411573831\n",
      "\n",
      " Final energy result: -3.04879559180808\t Final relative error is 7.845839597985231e-07\n"
     ]
    }
   ],
   "source": [
    "data_mixed, nucleo = ADAPT_mixed_minimization(data = data, nucleus = nucleus, ref_state = ref_state, max_layers = 5, exact = True, nshots = 1000)"
   ]
  },
  {
   "cell_type": "code",
   "execution_count": 4,
   "metadata": {},
   "outputs": [
    {
     "name": "stdout",
     "output_type": "stream",
     "text": [
      " --------------------------------------------------------------------------\n",
      "                            ADAPT for  Be6\n",
      " --------------------------------------------------------------------------\n",
      "\n",
      "Initial Energy:  1.436863661030754\n",
      "\n",
      "------------ LAYER 1 ------------\n",
      "Operator: [0, 3, 4, 5] , Gradient: 7.442272063700685\n",
      "Energy:  -0.8400652437719467\n",
      "Rel. Error:  0.7244601812835759\n",
      "Theta: 0.49999\n",
      "\n",
      "------------ LAYER 2 ------------\n",
      "Operator: [0, 3, 1, 2] , Gradient: 4.681056142831068\n",
      "Energy:  -2.9425293917146544\n",
      "Rel. Error:  0.03485589819151021\n",
      "Theta: -1.0163471749272361\n",
      "\n",
      "Operators used for each layer:\n",
      "Layer 0: Operator [0, 3, 4, 5], Theta = 0.5595921954228571, Gradient = 7.442272063700685\n",
      "Layer 1: Operator [0, 3, 1, 2], Theta = -1.0163471749272361, Gradient = 4.681056142831068\n",
      "\n",
      " Final energy result: -2.9425293917146544\t Final relative error is 0.03485589819151021\n"
     ]
    }
   ],
   "source": [
    "n_qubits = 6\n",
    "nuc='Be6'\n",
    "ref_state=0\n",
    "\n",
    "data_quantum, nucleus = Quantum_ADAPT_minimization(nuc, ref_state = ref_state, n_qubits=n_qubits, max_layers=2, exact=False, nshots=500, threshold=1e-7)"
   ]
  },
  {
   "cell_type": "code",
   "execution_count": 5,
   "metadata": {},
   "outputs": [
    {
     "name": "stdout",
     "output_type": "stream",
     "text": [
      " --------------------------------------------------------------------------\n",
      "                            ADAPT for  Be6\n",
      " --------------------------------------------------------------------------\n",
      "\n",
      "Initial Energy:  1.5679\n",
      "\n",
      "------------ LAYER 1 ------------\n",
      "Operator: [0, 3, 4, 5] , Gradient: 7.527717371155745\n",
      "Energy:  -0.8882113101562976\n",
      "Rel. Error:  0.7086683621340453\n",
      "Theta: 0.5781652705870356\n",
      "\n",
      "------------ LAYER 2 ------------\n",
      "Operator: [0, 3, 1, 2] , Gradient: 4.9083361345498675\n",
      "Energy:  -3.0487955893063456\n",
      "Rel. Error:  7.85404523964621e-07\n",
      "Theta: -0.7861368044187833\n",
      "\n",
      "Operators used for each layer:\n",
      "Layer 0: Operator [0, 3, 4, 5], Theta = 0.5913989223002978, Gradient = 7.527717371155745\n",
      "Layer 1: Operator [0, 3, 1, 2], Theta = -0.7861368044187833, Gradient = 4.9083361345498675\n",
      "\n",
      " Final energy result: -3.0487955893063456\t Final relative error is 7.85404523964621e-07\n"
     ]
    }
   ],
   "source": [
    "n_qubits = 6\n",
    "nuc='Be6'\n",
    "ref_state=0\n",
    "data, nucleus = Quantum_ADAPT_minimization(nuc, ref_state = ref_state, n_qubits=n_qubits, max_layers=2, exact=True)"
   ]
  },
  {
   "cell_type": "code",
   "execution_count": 6,
   "metadata": {},
   "outputs": [
    {
     "name": "stdout",
     "output_type": "stream",
     "text": [
      "9\n"
     ]
    }
   ],
   "source": [
    "used_operators = data['used_operators']\n",
    "thetas = data['parameters']\n",
    "\n",
    "\n",
    "composer = Circuits_Composser(nucleus='Be6',\n",
    "                              n_qubits=6,\n",
    "                              ref_state=0,\n",
    "                              parameters=thetas,\n",
    "                              operators_used=used_operators,\n",
    "                              exact=True) \n",
    "\n",
    "\n",
    "Qibo_circuits = composer.Qibo_all_circuits()\n",
    "\n",
    "print(len(Qibo_circuits)) "
   ]
  },
  {
   "cell_type": "code",
   "execution_count": 7,
   "metadata": {},
   "outputs": [
    {
     "name": "stdout",
     "output_type": "stream",
     "text": [
      "(0.55752+0j)|000011> + (-0.58745+0j)|011000> + (0.58658+0j)|100100> \n",
      "\n",
      "Energy,\t\t\tobservable,\t\tamplitude\n",
      "\n",
      "0.56084235 \t\t 0 \t\t 1.63\n",
      "0.56250184 \t\t 1 \t\t 1.63\n",
      "0.56250184 \t\t 2 \t\t 1.63\n",
      "0.56084235 \t\t 3 \t\t 1.63\n",
      "0.70558815 \t\t 4 \t\t 2.27\n",
      "0.70558815 \t\t 5 \t\t 2.27\n",
      "-0.58220941 \t\t [0, 3, 0, 3] \t\t -1.6921\n",
      "-0.58393213 \t\t [1, 2, 1, 2] \t\t -1.6921\n",
      "0.10558956 \t\t [4, 5, 4, 5] \t\t 0.3397\n",
      "-0.71887058 \t\t [0, 3, 1, 2] \t\t 1.0431\n",
      "-2.46179912 \t\t [0, 3, 4, 5] \t\t -3.76385869\n",
      "-2.46543858 \t\t [1, 2, 4, 5] \t\t 3.76385869\n",
      "\n",
      "-----------------------------------Final Energies-----------------------------------\n",
      "\n",
      "Monoparticular energies:                  3.657864682959288\n",
      "Two body energies with 2 diferent index:  -1.0605519821588372\n",
      "Two body energies with 3 diferent index:  0.0\n",
      "Two body energies with 4 diferent index:  -5.646108290106796\n"
     ]
    }
   ],
   "source": [
    "Et_exact = composer.Qibo_measure_Energy()"
   ]
  },
  {
   "cell_type": "code",
   "execution_count": 8,
   "metadata": {},
   "outputs": [
    {
     "name": "stdout",
     "output_type": "stream",
     "text": [
      "Energy,\t\t\tobservable,\t\tamplitude\n",
      "\n",
      "0.55583 \t\t 0 \t\t 1.63\n",
      "0.55909 \t\t 1 \t\t 1.63\n",
      "0.55909 \t\t 2 \t\t 1.63\n",
      "0.55583 \t\t 3 \t\t 1.63\n",
      "0.71732 \t\t 4 \t\t 2.27\n",
      "0.71732 \t\t 5 \t\t 2.27\n",
      "-0.5770061 \t\t [0, 3, 0, 3] \t\t -1.6921\n",
      "-0.5803903 \t\t [1, 2, 1, 2] \t\t -1.6921\n",
      "0.1073452 \t\t [4, 5, 4, 5] \t\t 0.3397\n",
      "-0.7343424 \t\t [0, 3, 1, 2] \t\t 1.0431\n",
      "-0.0066165 \t\t [0, 3, 1, 5] \t\t -1.10275\n",
      "-2.41639728 \t\t [0, 3, 4, 5] \t\t -3.76385869\n",
      "-2.42768885 \t\t [1, 2, 4, 5] \t\t 3.76385869\n",
      "-0.02315775 \t\t [1, 2, 5] \t\t -1.10275\n",
      "0.02536325 \t\t [2, 1, 4] \t\t -1.10275\n",
      "\n",
      "-----------------------------------Final Energies-----------------------------------\n",
      "\n",
      "Monoparticular energies:                  3.6644799999999997\n",
      "Two body energies with 2 diferent index:  -1.0500511999999997\n",
      "Two body energies with 3 diferent index:  0.0022054999999999714\n",
      "Two body energies with 4 diferent index:  -5.585045028338723\n"
     ]
    }
   ],
   "source": [
    "composer = Circuits_Composser(nucleus='Be6',\n",
    "                              n_qubits=6,\n",
    "                              ref_state=0,\n",
    "                              parameters=thetas,\n",
    "                              operators_used=used_operators,\n",
    "                              exact=False)\n",
    " \n",
    "Et_shots = composer.Qibo_measure_Energy()"
   ]
  },
  {
   "cell_type": "code",
   "execution_count": 9,
   "metadata": {},
   "outputs": [
    {
     "name": "stdout",
     "output_type": "stream",
     "text": [
      "---------------- 100 ----------------\n"
     ]
    },
    {
     "name": "stderr",
     "output_type": "stream",
     "text": [
      "                                                             \r"
     ]
    },
    {
     "name": "stdout",
     "output_type": "stream",
     "text": [
      "DONE\n",
      "---------------- 300 ----------------\n"
     ]
    },
    {
     "name": "stderr",
     "output_type": "stream",
     "text": [
      "                                                             \r"
     ]
    },
    {
     "name": "stdout",
     "output_type": "stream",
     "text": [
      "DONE\n",
      "---------------- 1000 ----------------\n"
     ]
    },
    {
     "name": "stderr",
     "output_type": "stream",
     "text": [
      "                                                             \r"
     ]
    },
    {
     "name": "stdout",
     "output_type": "stream",
     "text": [
      "DONE\n",
      "---------------- 3000 ----------------\n"
     ]
    },
    {
     "name": "stderr",
     "output_type": "stream",
     "text": [
      "                                                             "
     ]
    },
    {
     "name": "stdout",
     "output_type": "stream",
     "text": [
      "DONE\n"
     ]
    },
    {
     "name": "stderr",
     "output_type": "stream",
     "text": [
      "\r"
     ]
    }
   ],
   "source": [
    "\n",
    "list_shots=[100, 300, 1000, 3000]\n",
    "\n",
    "desviaciones_fixed=[]\n",
    "medias_fixed=[]\n",
    "for shots in list_shots:\n",
    "    composer.nshots = shots\n",
    "    energies=[]\n",
    "    print('----------------',shots,'----------------')\n",
    "    for _ in tqdm(range(40), leave=False, desc=\"Repeticiones\"):\n",
    "        with contextlib.redirect_stdout(f):\n",
    "            Et_shots = composer.Qibo_measure_Energy()\n",
    "        energies.append(Et_shots)\n",
    "    desviaciones_fixed.append(np.std(energies))\n",
    "    medias_fixed.append(np.mean(energies))\n",
    "    print('DONE')\n",
    "    \n",
    "    "
   ]
  },
  {
   "cell_type": "code",
   "execution_count": 10,
   "metadata": {},
   "outputs": [
    {
     "name": "stdout",
     "output_type": "stream",
     "text": [
      "-------------- 100  shots --------------\n"
     ]
    },
    {
     "name": "stderr",
     "output_type": "stream",
     "text": [
      "                                                             \r"
     ]
    },
    {
     "name": "stdout",
     "output_type": "stream",
     "text": [
      "DONE\n",
      "-------------- 300  shots --------------\n"
     ]
    },
    {
     "name": "stderr",
     "output_type": "stream",
     "text": [
      "                                                             \r"
     ]
    },
    {
     "name": "stdout",
     "output_type": "stream",
     "text": [
      "DONE\n",
      "-------------- 1000  shots --------------\n"
     ]
    },
    {
     "name": "stderr",
     "output_type": "stream",
     "text": [
      "                                                             \r"
     ]
    },
    {
     "name": "stdout",
     "output_type": "stream",
     "text": [
      "DONE\n",
      "-------------- 3000  shots --------------\n"
     ]
    },
    {
     "name": "stderr",
     "output_type": "stream",
     "text": [
      "                                                             "
     ]
    },
    {
     "name": "stdout",
     "output_type": "stream",
     "text": [
      "DONE\n"
     ]
    },
    {
     "name": "stderr",
     "output_type": "stream",
     "text": [
      "\r"
     ]
    }
   ],
   "source": [
    "nshots=[100, 300, 1000, 3000]\n",
    "results={}\n",
    "k=0\n",
    "with open(\"Be6_2_layer.dat\", \"w\") as file:\n",
    "    file.write(\"shots theta1_mean theta1_std theta2_mean theta2_std energy_mean energy_std energy_mean_fixed energy_std_fixed\\n\")\n",
    "    \n",
    "    for shots in nshots:\n",
    "        \n",
    "        fixed_E=medias_fixed[k]\n",
    "        fiexd_std=desviaciones_fixed[k]\n",
    "        thetas_1=[]\n",
    "        thetas_2=[]\n",
    "        energias=[]\n",
    "        print('--------------', shots, ' shots --------------')\n",
    "        for _ in tqdm(range(40), leave=False, desc=\"Repeticiones\"):\n",
    "            with contextlib.redirect_stdout(f):       \n",
    "                data_mix, nucleo = ADAPT_mixed_minimization(data=data, nucleus=nucleus, ref_state = ref_state, max_layers=5, exact=False, nshots=shots)\n",
    "            thetas_1.append(data_mix['parameters'][0])\n",
    "            thetas_2.append(data_mix['parameters'][1])\n",
    "\n",
    "            energias.append(data_mix['Energy'])\n",
    "            \n",
    "        print('DONE')\n",
    "        results[shots] = {'theta_1': [np.mean(thetas_1), np.std(thetas_1)], 'theta_2':[np.mean(thetas_2), np.std(thetas_2)],  'energy':[np.mean(energias), np.std(energias)]}\n",
    "        \n",
    "        media_t1, std_t1 = results[shots]['theta_1']\n",
    "        media_t2, std_t2 = results[shots]['theta_2']\n",
    "\n",
    "        media_E, std_E = results[shots]['energy']\n",
    "        \n",
    "        \n",
    "        file.write(f\"{shots} {media_t1:.6f} {std_t1:.6f} {media_t2:.6f} {std_t2:.6f} {media_E:.6f} {std_E:.6f} {fixed_E:.6f} {fiexd_std:.6f}\\n\")\n",
    "        \n",
    "        k += 1\n"
   ]
  }
 ],
 "metadata": {
  "kernelspec": {
   "display_name": "Python 3",
   "language": "python",
   "name": "python3"
  },
  "language_info": {
   "codemirror_mode": {
    "name": "ipython",
    "version": 3
   },
   "file_extension": ".py",
   "mimetype": "text/x-python",
   "name": "python",
   "nbconvert_exporter": "python",
   "pygments_lexer": "ipython3",
   "version": "3.13.2"
  }
 },
 "nbformat": 4,
 "nbformat_minor": 2
}
